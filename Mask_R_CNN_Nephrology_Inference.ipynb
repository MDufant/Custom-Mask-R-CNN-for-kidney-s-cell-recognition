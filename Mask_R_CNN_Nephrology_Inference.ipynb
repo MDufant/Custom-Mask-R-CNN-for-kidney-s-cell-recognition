{
 "cells": [
  {
   "cell_type": "markdown",
   "metadata": {},
   "source": [
    "# Mask R-CNN - Nephrology Multi-Inference\n",
    "This is an custom version of [Mask R-CNN - Train cell nucleus Dataset](https://colab.research.google.com/github/navidyou/Mask-RCNN-implementation-for-cell-nucleus-detection-executable-on-google-colab-/blob/master/mask_RCNN_cell_nucleus_google_colab.ipynb) for Google Colab. \n",
    "\n",
    "If using this notebook on Google Colab, GPU/TPU might not be used due to version of TensorFlow."
   ]
  },
  {
   "cell_type": "markdown",
   "metadata": {},
   "source": [
    "## Google Colab Only\n",
    "\n",
    "Execute only if using this notebook on Google Colab (installing compatible librairies and getting files needed). Errors might appear, do not worry about this."
   ]
  },
  {
   "cell_type": "code",
   "execution_count": null,
   "metadata": {
    "pycharm": {
     "name": "#%%\n"
    }
   },
   "outputs": [],
   "source": [
    "import sys\n",
    "IN_COLAB = 'google.colab' in sys.modules\n",
    "print(\"Executing in Google Colab\" if IN_COLAB else \"Executing locally\")"
   ]
  },
  {
   "cell_type": "markdown",
   "metadata": {},
   "source": [
    "### Retrieving needed files\n",
    "\n",
    "You can use this cell to update the files that have been downloaded during the same session and that have been updated on GitHub."
   ]
  },
  {
   "cell_type": "code",
   "execution_count": null,
   "metadata": {},
   "outputs": [],
   "source": [
    "if IN_COLAB:\n",
    "    import os\n",
    "    GITHUB_REPO = \"https://raw.githubusercontent.com/AdrienJaugey/Custom-Mask-R-CNN-for-kidney-s-cell-recognition/TensorFlow2_1_compatibility/\"\n",
    "    files = ['mrcnn/config.py', 'mrcnn/utils.py', 'mrcnn/model.py', \n",
    "             'mrcnn/visualize.py', 'datasetTools/datasetDivider.py',\n",
    "             'datasetTools/datasetWrapper.py', 'datasetTools/AnnotationAdapter.py',\n",
    "             'datasetTools/ASAPAdapter.py', 'datasetTools/LabelMeAdapter.py', 'nephrology.py']\n",
    "    for fileToDownload in files:\n",
    "        url = GITHUB_REPO + fileToDownload\n",
    "        !wget -qN $url\n",
    "        if '/' in fileToDownload:\n",
    "            destDir = fileToDownload.split('/')[0]\n",
    "            fileName = fileToDownload.split('/')[1].replace('/', '')\n",
    "            os.makedirs(destDir, exist_ok=True)\n",
    "            !mv $fileName $fileToDownload"
   ]
  },
  {
   "cell_type": "markdown",
   "metadata": {},
   "source": [
    "### Connecting to Google Drive"
   ]
  },
  {
   "cell_type": "markdown",
   "metadata": {},
   "source": [
    "The first time this cell is executed, a link should appear, asking you to accept to give access to files of a google account. \n",
    "1.   **Follow the link**;\n",
    "2.   **Choose the account** you want to link;\n",
    "3.   **Accept**;\n",
    "4.   **Copy the key** Google gave you;\n",
    "5.   **Paste the key in the text field** that appeared below the first link you used,\n",
    "6.   **Press ENTER**."
   ]
  },
  {
   "cell_type": "code",
   "execution_count": null,
   "metadata": {
    "pycharm": {
     "name": "#%%\n"
    }
   },
   "outputs": [],
   "source": [
    "if IN_COLAB:\n",
    "    from google.colab import drive\n",
    "    drive.mount('/content/drive')\n",
    "    import shutil\n",
    "    shutil.rmtree('sample_data/', ignore_errors=True)"
   ]
  },
  {
   "cell_type": "markdown",
   "metadata": {},
   "source": [
    "### Retrieving your image(s)"
   ]
  },
  {
   "cell_type": "markdown",
   "metadata": {},
   "source": [
    "Choose how to get your image(s) from the following list on the right   \n",
    "Use ```.jp2``` or ```.png``` images only !\n"
   ]
  },
  {
   "cell_type": "code",
   "execution_count": null,
   "metadata": {
    "pycharm": {
     "name": "#%%\n"
    }
   },
   "outputs": [],
   "source": [
    "if IN_COLAB:\n",
    "    howToGetImage = \"From Google Drive\" #@param [\"Upload\", \"From Google Drive\"]"
   ]
  },
  {
   "cell_type": "markdown",
   "metadata": {},
   "source": [
    "#### By upload"
   ]
  },
  {
   "cell_type": "code",
   "execution_count": null,
   "metadata": {
    "pycharm": {
     "name": "#%%\n"
    }
   },
   "outputs": [],
   "source": [
    "if IN_COLAB and howToGetImage == \"Upload\":\n",
    "    print(\"Please upload the image(s) you want to run the inference on, you can upload the corresponding annotations files too.\")\n",
    "    from google.colab import files\n",
    "    import shutil\n",
    "    uploaded = files.upload()\n",
    "    for fileName in uploaded:\n",
    "        os.makedirs('images', exist_ok=True)\n",
    "        shutil.move(fileName, \"images/{}\".format(fileName))"
   ]
  },
  {
   "cell_type": "markdown",
   "metadata": {},
   "source": [
    "#### By copy from Google Drive"
   ]
  },
  {
   "cell_type": "markdown",
   "metadata": {},
   "source": [
    "Be sure to customize the 2 variables for Google Colab to be able find your file(s) in Google Drive.\n",
    "Let's say you have this hierarchy in your Google Drive:\n",
    "```\n",
    "Root directory of Google Drive\n",
    "  ├─── Directory1\n",
    "  └─── Directory2\n",
    "       ├─── images\n",
    "       │    ├─── example1.png\n",
    "       │    └─── example2.png\n",
    "       └─── saved_weights\n",
    "            └─── weights.h5\n",
    "```\n",
    "1.   ```customPathInDrive``` must represent all the directories between the root directory and your image file. In the example, it would be ```Directory2/images/```. **Do not forget the final /** if you have to use this variable. Keep it empty if **file is directly in root directory** of Google Drive;\n",
    "2.   ```imageFileName``` must represent the file you want to upload. In the example, it would be ```example1.png```. It can also be empty, if you want to import all the folder's images *(and annotations files if checkbox is checked)* directly to Google Colab, so in the example ```example1.png``` and ```example2.png``` would be imported.\n",
    "\n",
    "Use the text fields available on the right."
   ]
  },
  {
   "cell_type": "code",
   "execution_count": null,
   "metadata": {
    "pycharm": {
     "name": "#%%\n"
    }
   },
   "outputs": [],
   "source": [
    "if IN_COLAB and howToGetImage == \"From Google Drive\":\n",
    "    pathToDrive = \"'/content/drive/My Drive/\"\n",
    "    customPathInDrive = \"\" #@param {type:\"string\"}\n",
    "    imageFilePath = \"\" #@param{type:\"string\"}\n",
    "    annotationsFile = True #@param {type:\"boolean\"}\n",
    "    !rm -r images/ || true\n",
    "    !mkdir -p images\n",
    "    if imageFilePath != \"\":\n",
    "        pathToImage = pathToDrive + customPathInDrive + imageFilePath + \"'\"\n",
    "        tempPath = \"images/\" + imageFilePath\n",
    "        print(\"Copying {} to {}\".format(pathToImage, tempPath))\n",
    "        !cp -u $pathToImage $tempPath\n",
    "        if annotationsFile:\n",
    "            annotationsFileName = imageFilePath.split('.')[0] + '.xml'\n",
    "            pathToAnnotations = pathToDrive + customPathInDrive + annotationsFileName + \"'\"\n",
    "            tempPath = \"images/\" + annotationsFileName\n",
    "            print(\"Copying {} to {}\".format(pathToAnnotations, tempPath))\n",
    "            !cp -u $pathToAnnotations $tempPath\n",
    "    else:\n",
    "        pathToImageFolder = \"/content/drive/My Drive/\" + customPathInDrive\n",
    "        fileList = os.listdir(pathToImageFolder)\n",
    "        ext = ['jp2', 'png']\n",
    "        if annotationsFile:\n",
    "            ext.extend(['xml', 'json'])\n",
    "        for dataFile in fileList:\n",
    "            if dataFile.split('.')[-1] in ext:\n",
    "                pathToFile = pathToDrive + customPathInDrive + dataFile + \"'\"\n",
    "                tempPath = 'images/' + dataFile\n",
    "                print(\"Copying {} to {}\".format(pathToFile, tempPath))\n",
    "                !cp -u $pathToFile $tempPath"
   ]
  },
  {
   "cell_type": "markdown",
   "metadata": {},
   "source": [
    "### Retrieving Weights File"
   ]
  },
  {
   "cell_type": "markdown",
   "metadata": {},
   "source": [
    "Same thing than retrieving an image file using Google Drive but it is the saved weights file (```.h5``` extension). With the past example, it would be ```Directory2/saved_weights/``` as ```customPathInDrive``` and ```weights.h5``` as ```weightFileName```."
   ]
  },
  {
   "cell_type": "code",
   "execution_count": null,
   "metadata": {
    "pycharm": {
     "name": "#%%\n"
    }
   },
   "outputs": [],
   "source": [
    "if IN_COLAB:\n",
    "    pathToDrive = \"'/content/drive/My Drive/\"\n",
    "    # Keep customPathInDrive empty if file directly in root directory of Google Drive\n",
    "    customPathInDrive = \"\" #@param {type:\"string\"}\n",
    "    weightFileName = \"mask_rcnn_nephrologie_753_100.h5\" #@param {type:\"string\"}\n",
    "    pathToWeights = pathToDrive + customPathInDrive + weightFileName + \"'\"\n",
    "    print(\"Copying {} to {}\".format(pathToWeights, weightFileName))\n",
    "    !cp -u $pathToWeights $weightFileName"
   ]
  },
  {
   "cell_type": "markdown",
   "metadata": {},
   "source": [
    "## Initialisation"
   ]
  },
  {
   "cell_type": "markdown",
   "metadata": {},
   "source": [
    "Be sure to set ```MODEL_PATH``` to the same value than ```weightFileName```. If you want to save the results in files ```saveResults``` should be checked. You will have to open the **Files tab** in the **vertical navigation bar on the left** to see the results appearing. Then you can save them by right-clicking on each file and save it. You can customize the division size but staying at 1024 should be fine. You can also customize the thresholds and the priority table, this will change the post-processing behavior. "
   ]
  },
  {
   "cell_type": "code",
   "execution_count": null,
   "metadata": {
    "pycharm": {
     "name": "#%%\n"
    }
   },
   "outputs": [],
   "source": [
    "MAIN_MODEL_PATH = \"mask_rcnn_nephrologie_753_100.h5\" #@param {type:\"string\"}\n",
    "CORTEX_MODEL_PATH = \"mask_rcnn_nephrologie_cortex_136_100.h5\" #@param {type:\"string\"}\n",
    "RESULTS_PATH = \"results/inference/\" #@param {type:\"string\"}\n",
    "DIVISION_SIZE = 1024 #@param {type:\"slider\", min:896, max:1024, step:1}\n",
    "displayMode = \"All steps\" #@param [\"All steps\", \"Only AP & statistics\"]\n",
    "saveResults = True #@param {type:\"boolean\"}\n",
    "cortexMode = False #@param {type:\"boolean\"}\n",
    "MODEL_PATH = CORTEX_MODEL_PATH if cortexMode else MAIN_MODEL_PATH\n",
    "DIVISION_SIZE = \"noDiv\" if cortexMode else DIVISION_SIZE\n",
    "classesInfo = [\n",
    "    {\"inferenceID\": 1, \"id\": 0,  \"name\": \"cortex\",            \"color\": \"#ffaa00\", \"ignore\": not cortexMode},\n",
    "    {\"inferenceID\": 2, \"id\": 1,  \"name\": \"medullaire\",        \"color\": \"#ff0000\", \"ignore\": not cortexMode},\n",
    "    {\"inferenceID\": 3, \"id\": 2,  \"name\": \"fond\",              \"color\": \"#ffffff\", \"ignore\": not cortexMode},\n",
    "    {\"inferenceID\": 1, \"id\": 3,  \"name\": \"tubule_sain\",       \"color\": \"#ff007f\", \"ignore\": cortexMode},\n",
    "    {\"inferenceID\": 2, \"id\": 4,  \"name\": \"tubule_atrophique\", \"color\": \"#55557f\", \"ignore\": cortexMode},\n",
    "    {\"inferenceID\": 3, \"id\": 5,  \"name\": \"nsg_complet\",       \"color\": \"#ff557f\", \"ignore\": cortexMode},\n",
    "    {\"inferenceID\": 4, \"id\": 6,  \"name\": \"nsg_partiel\",       \"color\": \"#55aa7f\", \"ignore\": cortexMode},\n",
    "    {\"inferenceID\": 5, \"id\": 7,  \"name\": \"pac\",               \"color\": \"#ffaa7f\", \"ignore\": cortexMode},\n",
    "    {\"inferenceID\": 6, \"id\": 8,  \"name\": \"vaisseau\",          \"color\": \"#55ff7f\", \"ignore\": cortexMode},\n",
    "    {\"inferenceID\": 7, \"id\": 9,  \"name\": \"artefact\",          \"color\": \"#000000\", \"ignore\": cortexMode},\n",
    "    {\"inferenceID\": 8, \"id\": 10, \"name\": \"veine\",             \"color\": \"#0000ff\", \"ignore\": cortexMode},\n",
    "    {\"inferenceID\": 9, \"id\": 11, \"name\": \"nsg\",               \"color\": \"#55007f\", \"ignore\": True},\n",
    "    {\"inferenceID\": 1, \"id\": 12, \"name\": \"intima\",            \"color\": \"#aa0000\", \"ignore\": True},\n",
    "    {\"inferenceID\": 2, \"id\": 13, \"name\": \"media\",             \"color\": \"#aa5500\", \"ignore\": True}\n",
    "]\n",
    "\n",
    "# Following variables are used to fuse overlapping masks of the same class\n",
    "# These thresholds determine the least part represented by the overlapping area\n",
    "# of bounding boxes or masks to determine whether or not we should fuse two masks\n",
    "FUSION_BB_THRESHOLD = 0.1 #@param {type:\"slider\", min:0, max:1, step:0.01}\n",
    "FUSION_MASK_THRESHOLD = 0.1 #@param {type:\"slider\", min:0, max:1, step:0.01}\n",
    "\n",
    "# Following variables are used to filter the masks before displaying results\n",
    "# Same thing than fusion thresholds but for removing masks\n",
    "FILTER_BB_THRESHOLD = 0.5 #@param {type:\"slider\", min:0, max:1, step:0.01}\n",
    "FILTER_MASK_THRESHOLD = 0.9 #@param {type:\"slider\", min:0, max:1, step:0.01}\n",
    "# Rows and columns correspond to classes in the same order than the classesInfo array without the first element\n",
    "# An element set to true means that a mask of the column class, if contained by a mask of the\n",
    "# row class, will be erased.\n",
    "# True -> colunm element could be erased by row element\n",
    "if not cortexMode:    #tSain  tAtro  nsgC   nsgP   pac    vais.  artef. veine  nsg\n",
    "    PRIORITY_TABLE = [[False, True,  False, False, False, False, False, False, False], # tubule_sain\n",
    "                      [False, False, False, False, False, False, False, False, False], # tubule_atrophique\n",
    "                      [True,  True,  True,  True,  True,  True,  True,  True,  True ], # nsg_complet\n",
    "                      [True,  True,  False, False, False, True,  True,  True,  False], # nsg_partiel\n",
    "                      [True,  True,  False, False, False, True,  True,  True,  False], # pac\n",
    "                      [True,  True,  False, False, False, False, False, False, False], # vaisseau\n",
    "                      [False, False, False, False, False, False, False, False, False], # artefact\n",
    "                      [True,  True,  False, False, False, False, False, False, False], # veine\n",
    "                      [True,  True,  False, False, False, True,  True,  True,  False]] # nsg\n",
    "else:                 #cortex medul. fond\n",
    "    PRIORITY_TABLE = [[False, False, False], # cortex\n",
    "                      [False, False, False], # medullaire\n",
    "                      [False, False, False]] # fond"
   ]
  },
  {
   "cell_type": "code",
   "execution_count": null,
   "metadata": {
    "pycharm": {
     "name": "#%%\n"
    }
   },
   "outputs": [],
   "source": [
    "import nephrology as nephro\n",
    "images = nephro.listAvailableImage('images/')\n",
    "print(\"Found {} image{}:\".format(len(images), \"s\" if len(images) > 1 else ''))\n",
    "for image in images:\n",
    "    print(\" -\", image)"
   ]
  },
  {
   "cell_type": "markdown",
   "metadata": {},
   "source": [
    "## Inference"
   ]
  },
  {
   "cell_type": "code",
   "execution_count": null,
   "metadata": {
    "pycharm": {
     "name": "#%%\n"
    },
    "scrolled": false
   },
   "outputs": [],
   "source": [
    "model = nephro.NephrologyInferenceModel(classesInfo, MODEL_PATH, DIVISION_SIZE)\n",
    "model.inference(images, RESULTS_PATH, saveResults,\n",
    "                FUSION_BB_THRESHOLD, FUSION_MASK_THRESHOLD,\n",
    "                FILTER_BB_THRESHOLD, FILTER_MASK_THRESHOLD, PRIORITY_TABLE,\n",
    "                displayOnlyAP=(displayMode == \"Only AP & statistics\"))"
   ]
  },
  {
   "cell_type": "code",
   "execution_count": null,
   "metadata": {},
   "outputs": [],
   "source": [
    "import shutil\n",
    "shutil.rmtree('data/', ignore_errors=True)"
   ]
  },
  {
   "cell_type": "markdown",
   "metadata": {},
   "source": [
    "### Exporting results for Google Colab "
   ]
  },
  {
   "cell_type": "code",
   "execution_count": null,
   "metadata": {},
   "outputs": [],
   "source": [
    "if IN_COLAB:\n",
    "    if RESULTS_PATH is None or RESULTS_PATH in ['.', './', \"/\", \"\"]:\n",
    "        lastDir = \"results\"\n",
    "        remainingPath = \"./\"\n",
    "    else:\n",
    "        if RESULTS_PATH[-1] == '/':\n",
    "            index = -2\n",
    "        else:\n",
    "            index = -1\n",
    "        lastDir = RESULTS_PATH.split('/')[index].replace('/', '')\n",
    "        remainingPath = RESULTS_PATH[0:RESULTS_PATH.index(lastDir)]\n",
    "\n",
    "    lastFoundDir = None\n",
    "    fileList = os.listdir(remainingPath)\n",
    "    fileList.sort()\n",
    "    for resultFolder in fileList:\n",
    "        if lastDir in resultFolder and os.path.isdir(os.path.join(remainingPath, resultFolder)):\n",
    "            lastFoundDir = resultFolder\n",
    "\n",
    "    if lastFoundDir is not None:\n",
    "        lastFoundDirPath = os.path.join(remainingPath, lastFoundDir)\n",
    "        zipName = lastFoundDir + '.zip'\n",
    "        !zip -qr $zipName $lastFoundDirPath\n",
    "        print(\"Results can be downloaded on the Files tab on the left\")\n",
    "        print(\"Zip file name is :\", zipName)"
   ]
  },
  {
   "cell_type": "markdown",
   "metadata": {},
   "source": [
    "This cell may run indefinitely, Google Colab has problem with downloading automatically large files."
   ]
  },
  {
   "cell_type": "code",
   "execution_count": null,
   "metadata": {},
   "outputs": [],
   "source": [
    "if IN_COLAB:\n",
    "    from google.colab import files\n",
    "    files.download(zipName)"
   ]
  }
 ],
 "metadata": {
  "celltoolbar": "Format de la Cellule Texte Brut",
  "colab": {
   "collapsed_sections": [],
   "name": "Mask_R_CNN_Nephrology_Inference.ipynb",
   "private_outputs": true,
   "provenance": [],
   "toc_visible": true
  },
  "kernelspec": {
   "display_name": "Python 3",
   "language": "python",
   "name": "python3"
  },
  "language_info": {
   "codemirror_mode": {
    "name": "ipython",
    "version": 3
   },
   "file_extension": ".py",
   "mimetype": "text/x-python",
   "name": "python",
   "nbconvert_exporter": "python",
   "pygments_lexer": "ipython3",
   "version": "3.7.7"
  }
 },
 "nbformat": 4,
 "nbformat_minor": 1
}
